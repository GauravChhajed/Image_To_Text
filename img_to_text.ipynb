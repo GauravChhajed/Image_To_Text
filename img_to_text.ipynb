{
 "cells": [
  {
   "cell_type": "code",
   "execution_count": 37,
   "id": "795ac7c5-2f90-4f19-a399-50fa21472f78",
   "metadata": {},
   "outputs": [],
   "source": [
    "import cv2\n",
    "import pytesseract\n",
    "from docx import Document"
   ]
  },
  {
   "cell_type": "code",
   "execution_count": 39,
   "id": "a4c844cb-f5da-47b5-8ef6-7025ec0bd02f",
   "metadata": {},
   "outputs": [],
   "source": [
    "def preprocess_image(image):\n",
    "    gray = cv2.cvtColor(image, cv2.COLOR_BGR2GRAY)\n",
    "    _, thresh = cv2.threshold(gray, 0, 255, cv2.THRESH_BINARY + cv2.THRESH_OTSU)\n",
    "    kernel = cv2.getStructuringElement(cv2.MORPH_RECT, (3, 3))\n",
    "    opening = cv2.morphologyEx(thresh, cv2.MORPH_OPEN, kernel, iterations=1)\n",
    "    eroded = cv2.erode(opening, kernel, iterations=1)\n",
    "    preprocessed = cv2.GaussianBlur(eroded, (5, 5), 0)\n",
    "    return preprocessed"
   ]
  },
  {
   "cell_type": "code",
   "execution_count": 41,
   "id": "6559b337-d0e0-4e09-b09f-d76fbc077e58",
   "metadata": {},
   "outputs": [],
   "source": [
    "def ocr(image):\n",
    "    text = pytesseract.image_to_string(image, config='--psm 1')  # Adjust PSM value as needed\n",
    "    return text\n"
   ]
  },
  {
   "cell_type": "code",
   "execution_count": 43,
   "id": "aa970672-c25f-46aa-b652-e40c61e88071",
   "metadata": {},
   "outputs": [],
   "source": [
    "def save_to_doc(text, output_file):\n",
    "    doc = Document()\n",
    "    doc.add_paragraph(text)\n",
    "    doc.save(output_file)"
   ]
  },
  {
   "cell_type": "code",
   "execution_count": 45,
   "id": "4e98678b-7542-411f-927f-c63d8dba95c7",
   "metadata": {},
   "outputs": [
    {
     "name": "stdout",
     "output_type": "stream",
     "text": [
      "Text saved to output.docx\n"
     ]
    }
   ],
   "source": [
    "def main():\n",
    "    image_path = \"try.jpg\"  # Adjust this path accordingly\n",
    "    frame = cv2.imread(image_path)\n",
    "    if frame is None:\n",
    "        print(f\"Failed to read image at path: {image_path}\")\n",
    "        return\n",
    "    \n",
    "    preprocessed_image = preprocess_image(frame)\n",
    "    recognized_text = ocr(preprocessed_image)\n",
    "    output_file = \"output.docx\"\n",
    "    save_to_doc(recognized_text, output_file)\n",
    "    print(f\"Text saved to {output_file}\")\n",
    "\n",
    "if __name__ == \"__main__\":\n",
    "    main()"
   ]
  },
  {
   "cell_type": "code",
   "execution_count": null,
   "id": "a3874c96-b539-42a9-b290-3b18c3c2ed2d",
   "metadata": {},
   "outputs": [],
   "source": []
  }
 ],
 "metadata": {
  "kernelspec": {
   "display_name": "Python 3 (ipykernel)",
   "language": "python",
   "name": "python3"
  },
  "language_info": {
   "codemirror_mode": {
    "name": "ipython",
    "version": 3
   },
   "file_extension": ".py",
   "mimetype": "text/x-python",
   "name": "python",
   "nbconvert_exporter": "python",
   "pygments_lexer": "ipython3",
   "version": "3.12.4"
  }
 },
 "nbformat": 4,
 "nbformat_minor": 5
}
